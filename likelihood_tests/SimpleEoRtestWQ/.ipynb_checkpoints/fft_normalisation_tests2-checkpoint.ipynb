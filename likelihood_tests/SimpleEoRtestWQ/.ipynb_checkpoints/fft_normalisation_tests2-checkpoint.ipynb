{
 "cells": [
  {
   "cell_type": "markdown",
   "metadata": {},
   "source": [
    "Numpy FFT normalisation test.\n",
    "Notebook structure:\n",
    " - Import libs\n",
    " - Define simulation FoV and resolutions etc.\n",
    " - Generate a high-res and low-res sims\n",
    " - FFT, normalise and then compare power spectra "
   ]
  },
  {
   "cell_type": "markdown",
   "metadata": {},
   "source": [
    "---\n",
    "Import libs\n",
    "\n",
    "---"
   ]
  },
  {
   "cell_type": "code",
   "execution_count": 5,
   "metadata": {
    "collapsed": false
   },
   "outputs": [],
   "source": [
    "import numpy\n",
    "import numpy as np\n",
    "from numpy import * \n",
    "import pylab\n",
    "import pylab as P\n",
    "import scipy\n",
    "from scipy import optimize\n",
    "from scipy.optimize import curve_fit\n"
   ]
  },
  {
   "cell_type": "markdown",
   "metadata": {},
   "source": [
    " ---\n",
    " Define simulation FoV and resolutions etc.\n",
    " \n",
    " ---"
   ]
  },
  {
   "cell_type": "code",
   "execution_count": 17,
   "metadata": {
    "collapsed": true
   },
   "outputs": [],
   "source": [
    "\n",
    "map_mean = 0.0 #0 K\n",
    "map_std = 62.0 # K\n",
    "map_area_sr = 1.0 # 1 sr\n",
    "Npix_hr = 93 #Number of pixels on a side in the high-resolution map\n",
    "N = Npix_hr #Number of pixels on a side in the high-resolution map\n",
    "d_Omega_hr = map_area_sr/(Npix_hr*Npix_hr) #Image-domain pixel area\n",
    "d_uv_hr = 1./d_Omega_hr #uv-domain pixel area"
   ]
  },
  {
   "cell_type": "markdown",
   "metadata": {},
   "source": [
    "---\n",
    "Generate a high-res and low-res sims\n",
    "\n",
    "---"
   ]
  },
  {
   "cell_type": "code",
   "execution_count": 21,
   "metadata": {
    "collapsed": false
   },
   "outputs": [],
   "source": [
    "#Generate high resolution white noise map\n",
    "map_hr = np.random.normal(0,10,N**2).reshape(N,N)\n",
    "\n",
    "#Generate low resolution white noise map\n",
    "n_bl = 3 #Top-hat convolution kernel block width\n",
    "N_lr = N/n_bl\n",
    "map_lr = np.array([map_hr[n_bl*i:n_bl*(i+1),n_bl*j:n_bl*(j+1)].mean() for i in range(N/n_bl) for j in range(N/n_bl)])\n",
    "map_lr = map_lr.reshape(N_lr,N_lr)\n",
    "\n",
    "\n",
    "#Define low-res FFT normalisation constants\n",
    "d_Omega_lr = map_area_sr/(N_lr*N_lr) #Image-domain pixel area\n",
    "d_uv_lr = 1./d_Omega_lr #uv-domain pixel area"
   ]
  },
  {
   "cell_type": "markdown",
   "metadata": {},
   "source": [
    "---\n",
    "FFT, normalise and then compare power spectra\n",
    "\n",
    "---"
   ]
  },
  {
   "cell_type": "code",
   "execution_count": 25,
   "metadata": {
    "collapsed": false
   },
   "outputs": [
    {
     "data": {
      "image/png": "[encoded data removed]",
      "text/plain": [
       "<matplotlib.figure.Figure at 0x7f92f4face10>"
      ]
     },
     "metadata": {},
     "output_type": "display_data"
    },
    {
     "name": "stdout",
     "output_type": "stream",
     "text": [
      "Amplitude ratio (expect 1.0):\n",
      "1.24610319822\n"
     ]
    }
   ],
   "source": [
    "axes_tuple=(0,1)\n",
    "uv_hr = numpy.fft.ifftshift(map_hr, axes=axes_tuple)\n",
    "uv_hr=numpy.fft.fftn(uv_hr, axes=axes_tuple)\n",
    "uv_hr=numpy.fft.fftshift(uv_hr, axes=axes_tuple)\n",
    "uv_hr = d_Omega_hr*uv_hr #Apply physical normalisation for FFT\n",
    "\n",
    "uv_lr = numpy.fft.ifftshift(map_lr, axes=axes_tuple)\n",
    "uv_lr=numpy.fft.fftn(uv_lr, axes=axes_tuple)\n",
    "uv_lr=numpy.fft.fftshift(uv_lr, axes=axes_tuple)\n",
    "uv_lr = d_Omega_lr*uv_lr #Apply physical normalisation for FFT\n",
    "\n",
    "uv_hr_lss_modes = uv_hr[N/2-N_lr/2:N/2+N_lr/2+1,N/2-N_lr/2:N/2+N_lr/2+1]\n",
    "pylab.imshow(abs(uv_lr)/abs(uv_hr_lss_modes))\n",
    "pylab.colorbar()\n",
    "pylab.show()\n",
    "\n",
    "print 'Amplitude ratio (expect 1.0):\\n', (abs(uv_lr)/abs(uv_hr_lss_modes)).mean()"
   ]
  },
  {
   "cell_type": "code",
   "execution_count": null,
   "metadata": {
    "collapsed": true
   },
   "outputs": [],
   "source": []
  }
 ],
 "metadata": {
  "kernelspec": {
   "display_name": "Python 2",
   "language": "python",
   "name": "python2"
  },
  "language_info": {
   "codemirror_mode": {
    "name": "ipython",
    "version": 2
   },
   "file_extension": ".py",
   "mimetype": "text/x-python",
   "name": "python",
   "nbconvert_exporter": "python",
   "pygments_lexer": "ipython2",
   "version": "2.7.13"
  }
 },
 "nbformat": 4,
 "nbformat_minor": 2
}
